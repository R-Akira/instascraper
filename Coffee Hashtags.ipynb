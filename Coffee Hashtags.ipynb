{
 "cells": [
  {
   "cell_type": "code",
   "execution_count": 1,
   "metadata": {},
   "outputs": [],
   "source": [
    "import pandas as pd\n",
    "import matplotlib.pyplot as plt\n",
    "\n",
    "file = 'IQ Hashtag checks.xlsx'\n",
    "\n",
    "df_trend = pd.read_excel(file, sheet_name = 'trend')\n",
    "df_result = pd.read_excel(file, sheet_name = 'result')"
   ]
  },
  {
   "cell_type": "markdown",
   "metadata": {},
   "source": [
    "<h1> Trend Cleaning </h1>"
   ]
  },
  {
   "cell_type": "code",
   "execution_count": 2,
   "metadata": {},
   "outputs": [
    {
     "data": {
      "text/html": [
       "<div>\n",
       "<style scoped>\n",
       "    .dataframe tbody tr th:only-of-type {\n",
       "        vertical-align: middle;\n",
       "    }\n",
       "\n",
       "    .dataframe tbody tr th {\n",
       "        vertical-align: top;\n",
       "    }\n",
       "\n",
       "    .dataframe thead th {\n",
       "        text-align: right;\n",
       "    }\n",
       "</style>\n",
       "<table border=\"1\" class=\"dataframe\">\n",
       "  <thead>\n",
       "    <tr style=\"text-align: right;\">\n",
       "      <th></th>\n",
       "      <th>Name</th>\n",
       "      <th>Trend</th>\n",
       "      <th>IG posts</th>\n",
       "      <th>Used in profile</th>\n",
       "      <th>Last time used</th>\n",
       "    </tr>\n",
       "  </thead>\n",
       "  <tbody>\n",
       "    <tr>\n",
       "      <td>0</td>\n",
       "      <td>#covid19</td>\n",
       "      <td>↗ 31.96%</td>\n",
       "      <td>28417468</td>\n",
       "      <td>NaN</td>\n",
       "      <td>NaN</td>\n",
       "    </tr>\n",
       "    <tr>\n",
       "      <td>1</td>\n",
       "      <td>#lockdown</td>\n",
       "      <td>↗ 22.43%</td>\n",
       "      <td>8803748</td>\n",
       "      <td>NaN</td>\n",
       "      <td>NaN</td>\n",
       "    </tr>\n",
       "    <tr>\n",
       "      <td>2</td>\n",
       "      <td>#covid_19</td>\n",
       "      <td>↗ 20.03%</td>\n",
       "      <td>14199962</td>\n",
       "      <td>NaN</td>\n",
       "      <td>NaN</td>\n",
       "    </tr>\n",
       "    <tr>\n",
       "      <td>3</td>\n",
       "      <td>#lofivibes</td>\n",
       "      <td>↗ 19.13%</td>\n",
       "      <td>246661</td>\n",
       "      <td>NaN</td>\n",
       "      <td>NaN</td>\n",
       "    </tr>\n",
       "    <tr>\n",
       "      <td>4</td>\n",
       "      <td>#2020</td>\n",
       "      <td>↗ 17.95%</td>\n",
       "      <td>45024297</td>\n",
       "      <td>NaN</td>\n",
       "      <td>NaN</td>\n",
       "    </tr>\n",
       "  </tbody>\n",
       "</table>\n",
       "</div>"
      ],
      "text/plain": [
       "         Name     Trend  IG posts  Used in profile  Last time used\n",
       "0    #covid19  ↗ 31.96%  28417468              NaN             NaN\n",
       "1   #lockdown  ↗ 22.43%   8803748              NaN             NaN\n",
       "2   #covid_19  ↗ 20.03%  14199962              NaN             NaN\n",
       "3  #lofivibes  ↗ 19.13%    246661              NaN             NaN\n",
       "4       #2020  ↗ 17.95%  45024297              NaN             NaN"
      ]
     },
     "execution_count": 2,
     "metadata": {},
     "output_type": "execute_result"
    }
   ],
   "source": [
    "df_trend.head()"
   ]
  },
  {
   "cell_type": "code",
   "execution_count": 3,
   "metadata": {},
   "outputs": [
    {
     "data": {
      "text/plain": [
       "Name                object\n",
       "Trend               object\n",
       "IG posts             int64\n",
       "Used in profile    float64\n",
       "Last time used     float64\n",
       "dtype: object"
      ]
     },
     "execution_count": 3,
     "metadata": {},
     "output_type": "execute_result"
    }
   ],
   "source": [
    "df_trend.dtypes"
   ]
  },
  {
   "cell_type": "code",
   "execution_count": 4,
   "metadata": {},
   "outputs": [],
   "source": [
    "df_trend['Trend'] = df_trend['Trend'].str.slice_replace(0, 1, '')"
   ]
  },
  {
   "cell_type": "code",
   "execution_count": 5,
   "metadata": {},
   "outputs": [
    {
     "data": {
      "text/html": [
       "<div>\n",
       "<style scoped>\n",
       "    .dataframe tbody tr th:only-of-type {\n",
       "        vertical-align: middle;\n",
       "    }\n",
       "\n",
       "    .dataframe tbody tr th {\n",
       "        vertical-align: top;\n",
       "    }\n",
       "\n",
       "    .dataframe thead th {\n",
       "        text-align: right;\n",
       "    }\n",
       "</style>\n",
       "<table border=\"1\" class=\"dataframe\">\n",
       "  <thead>\n",
       "    <tr style=\"text-align: right;\">\n",
       "      <th></th>\n",
       "      <th>Name</th>\n",
       "      <th>Trend</th>\n",
       "      <th>IG posts</th>\n",
       "      <th>Used in profile</th>\n",
       "      <th>Last time used</th>\n",
       "    </tr>\n",
       "  </thead>\n",
       "  <tbody>\n",
       "    <tr>\n",
       "      <td>0</td>\n",
       "      <td>#covid19</td>\n",
       "      <td>31.96%</td>\n",
       "      <td>28417468</td>\n",
       "      <td>NaN</td>\n",
       "      <td>NaN</td>\n",
       "    </tr>\n",
       "    <tr>\n",
       "      <td>1</td>\n",
       "      <td>#lockdown</td>\n",
       "      <td>22.43%</td>\n",
       "      <td>8803748</td>\n",
       "      <td>NaN</td>\n",
       "      <td>NaN</td>\n",
       "    </tr>\n",
       "    <tr>\n",
       "      <td>2</td>\n",
       "      <td>#covid_19</td>\n",
       "      <td>20.03%</td>\n",
       "      <td>14199962</td>\n",
       "      <td>NaN</td>\n",
       "      <td>NaN</td>\n",
       "    </tr>\n",
       "    <tr>\n",
       "      <td>3</td>\n",
       "      <td>#lofivibes</td>\n",
       "      <td>19.13%</td>\n",
       "      <td>246661</td>\n",
       "      <td>NaN</td>\n",
       "      <td>NaN</td>\n",
       "    </tr>\n",
       "    <tr>\n",
       "      <td>4</td>\n",
       "      <td>#2020</td>\n",
       "      <td>17.95%</td>\n",
       "      <td>45024297</td>\n",
       "      <td>NaN</td>\n",
       "      <td>NaN</td>\n",
       "    </tr>\n",
       "  </tbody>\n",
       "</table>\n",
       "</div>"
      ],
      "text/plain": [
       "         Name    Trend  IG posts  Used in profile  Last time used\n",
       "0    #covid19   31.96%  28417468              NaN             NaN\n",
       "1   #lockdown   22.43%   8803748              NaN             NaN\n",
       "2   #covid_19   20.03%  14199962              NaN             NaN\n",
       "3  #lofivibes   19.13%    246661              NaN             NaN\n",
       "4       #2020   17.95%  45024297              NaN             NaN"
      ]
     },
     "execution_count": 5,
     "metadata": {},
     "output_type": "execute_result"
    }
   ],
   "source": [
    "df_trend.head()"
   ]
  },
  {
   "cell_type": "code",
   "execution_count": 6,
   "metadata": {},
   "outputs": [],
   "source": [
    "df_trend['Trend'] = df_trend['Trend'].replace(to_replace = '%', value = '', regex=True)"
   ]
  },
  {
   "cell_type": "code",
   "execution_count": 7,
   "metadata": {},
   "outputs": [
    {
     "data": {
      "text/plain": [
       "0     31.96\n",
       "1     22.43\n",
       "2     20.03\n",
       "3     19.13\n",
       "4     17.95\n",
       "      ...  \n",
       "95     5.43\n",
       "96     5.42\n",
       "97     5.40\n",
       "98     5.37\n",
       "99     5.36\n",
       "Name: Trend, Length: 100, dtype: float64"
      ]
     },
     "execution_count": 7,
     "metadata": {},
     "output_type": "execute_result"
    }
   ],
   "source": [
    "df_trend['Trend'].astype(float)"
   ]
  },
  {
   "cell_type": "code",
   "execution_count": 12,
   "metadata": {},
   "outputs": [],
   "source": [
    "df_trend = df_trend.iloc[:,0:3]"
   ]
  },
  {
   "cell_type": "markdown",
   "metadata": {},
   "source": [
    "<h1> Result Cleaning </h1>"
   ]
  },
  {
   "cell_type": "code",
   "execution_count": 9,
   "metadata": {},
   "outputs": [
    {
     "data": {
      "text/html": [
       "<div>\n",
       "<style scoped>\n",
       "    .dataframe tbody tr th:only-of-type {\n",
       "        vertical-align: middle;\n",
       "    }\n",
       "\n",
       "    .dataframe tbody tr th {\n",
       "        vertical-align: top;\n",
       "    }\n",
       "\n",
       "    .dataframe thead th {\n",
       "        text-align: right;\n",
       "    }\n",
       "</style>\n",
       "<table border=\"1\" class=\"dataframe\">\n",
       "  <thead>\n",
       "    <tr style=\"text-align: right;\">\n",
       "      <th></th>\n",
       "      <th>Name</th>\n",
       "      <th>IG posts</th>\n",
       "      <th>Avg Like</th>\n",
       "      <th>Avg Comment</th>\n",
       "      <th>Used in profile</th>\n",
       "      <th>Last time used</th>\n",
       "    </tr>\n",
       "  </thead>\n",
       "  <tbody>\n",
       "    <tr>\n",
       "      <td>0</td>\n",
       "      <td>#coffeetime</td>\n",
       "      <td>26471697</td>\n",
       "      <td>5559</td>\n",
       "      <td>14</td>\n",
       "      <td>0</td>\n",
       "      <td>NaN</td>\n",
       "    </tr>\n",
       "    <tr>\n",
       "      <td>1</td>\n",
       "      <td>#coffeelover</td>\n",
       "      <td>15593950</td>\n",
       "      <td>4834</td>\n",
       "      <td>28</td>\n",
       "      <td>0</td>\n",
       "      <td>NaN</td>\n",
       "    </tr>\n",
       "    <tr>\n",
       "      <td>2</td>\n",
       "      <td>#cafe</td>\n",
       "      <td>61044805</td>\n",
       "      <td>13430</td>\n",
       "      <td>35</td>\n",
       "      <td>0</td>\n",
       "      <td>NaN</td>\n",
       "    </tr>\n",
       "    <tr>\n",
       "      <td>3</td>\n",
       "      <td>#love</td>\n",
       "      <td>1831886343</td>\n",
       "      <td>293102</td>\n",
       "      <td>10</td>\n",
       "      <td>0</td>\n",
       "      <td>NaN</td>\n",
       "    </tr>\n",
       "    <tr>\n",
       "      <td>4</td>\n",
       "      <td>#instagood</td>\n",
       "      <td>1135958719</td>\n",
       "      <td>215832</td>\n",
       "      <td>42</td>\n",
       "      <td>0</td>\n",
       "      <td>NaN</td>\n",
       "    </tr>\n",
       "  </tbody>\n",
       "</table>\n",
       "</div>"
      ],
      "text/plain": [
       "           Name    IG posts  Avg Like  Avg Comment  Used in profile  \\\n",
       "0   #coffeetime    26471697      5559           14                0   \n",
       "1  #coffeelover    15593950      4834           28                0   \n",
       "2         #cafe    61044805     13430           35                0   \n",
       "3         #love  1831886343    293102           10                0   \n",
       "4    #instagood  1135958719    215832           42                0   \n",
       "\n",
       "   Last time used  \n",
       "0             NaN  \n",
       "1             NaN  \n",
       "2             NaN  \n",
       "3             NaN  \n",
       "4             NaN  "
      ]
     },
     "execution_count": 9,
     "metadata": {},
     "output_type": "execute_result"
    }
   ],
   "source": [
    "df_result.head()"
   ]
  },
  {
   "cell_type": "code",
   "execution_count": 10,
   "metadata": {},
   "outputs": [],
   "source": [
    "df_result = df_result.iloc[:,0:4]"
   ]
  },
  {
   "cell_type": "markdown",
   "metadata": {},
   "source": [
    "<h1> Analysis </h1>"
   ]
  },
  {
   "cell_type": "code",
   "execution_count": 48,
   "metadata": {},
   "outputs": [],
   "source": [
    "#only related to coffee\n",
    "\n",
    "placeholder_lst = []\n",
    "for i in df_trend['Name']:\n",
    "    if \"coffee\" in i:\n",
    "        placeholder_lst.append(i)\n",
    "    elif \"kopi\" in i:\n",
    "        placeholder_lst.append(i)\n",
    "    elif \"cafe\" in i:\n",
    "        placeholder_lst.append(i)\n",
    "      \n",
    "coffee_trend = df_trend[df_trend['Name'].isin(placeholder_lst)]\n",
    "no_coffee_trend = df_trend[~df_trend['Name'].isin(placeholder_lst)]"
   ]
  },
  {
   "cell_type": "code",
   "execution_count": 49,
   "metadata": {},
   "outputs": [],
   "source": [
    "placeholder_lst = []\n",
    "for i in df_result['Name']:\n",
    "    if \"coffee\" in i:\n",
    "        placeholder_lst.append(i)\n",
    "    elif \"kopi\" in i:\n",
    "        placeholder_lst.append(i)\n",
    "    elif \"cafe\" in i:\n",
    "        placeholder_lst.append(i)\n",
    "\n",
    "coffee_result = df_result[df_result['Name'].isin(placeholder_lst)]\n",
    "no_coffee_result = df_result[~df_result['Name'].isin(placeholder_lst)]"
   ]
  },
  {
   "cell_type": "markdown",
   "metadata": {},
   "source": [
    "<h1>Export</h1>"
   ]
  },
  {
   "cell_type": "code",
   "execution_count": 51,
   "metadata": {},
   "outputs": [],
   "source": [
    "# export\n",
    "with pd.ExcelWriter('coffee.xlsx') as writer:  \n",
    "\n",
    "    coffee_trend.to_excel(writer, sheet_name = 'C-Trend')\n",
    "    coffee_result.to_excel(writer, sheet_name = 'C-Result')\n",
    "    no_coffee_trend.to_excel(writer, sheet_name = 'NC-Trend')\n",
    "    no_coffee_result.to_excel(writer, sheet_name = 'NC-Result')\n",
    "\n",
    "with pd.ExcelWriter('raw_coffee.xlsx') as writer:  \n",
    "    df_trend.to_excel(writer, sheet_name='Clean Trend')\n",
    "    df_result.to_excel(writer, sheet_name='Clean Result')"
   ]
  },
  {
   "cell_type": "code",
   "execution_count": null,
   "metadata": {},
   "outputs": [],
   "source": []
  }
 ],
 "metadata": {
  "kernelspec": {
   "display_name": "Python 3",
   "language": "python",
   "name": "python3"
  },
  "language_info": {
   "codemirror_mode": {
    "name": "ipython",
    "version": 3
   },
   "file_extension": ".py",
   "mimetype": "text/x-python",
   "name": "python",
   "nbconvert_exporter": "python",
   "pygments_lexer": "ipython3",
   "version": "3.7.4"
  }
 },
 "nbformat": 4,
 "nbformat_minor": 2
}
